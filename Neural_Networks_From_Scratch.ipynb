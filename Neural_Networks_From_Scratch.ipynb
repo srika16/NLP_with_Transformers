{
  "nbformat": 4,
  "nbformat_minor": 0,
  "metadata": {
    "colab": {
      "provenance": [],
      "authorship_tag": "ABX9TyPPwSF2+Dmhbz7AoVC+C//b",
      "include_colab_link": true
    },
    "kernelspec": {
      "name": "python3",
      "display_name": "Python 3"
    },
    "language_info": {
      "name": "python"
    }
  },
  "cells": [
    {
      "cell_type": "markdown",
      "metadata": {
        "id": "view-in-github",
        "colab_type": "text"
      },
      "source": [
        "<a href=\"https://colab.research.google.com/github/srika16/NLP_with_Transformers/blob/main/Neural_Networks_From_Scratch.ipynb\" target=\"_parent\"><img src=\"https://colab.research.google.com/assets/colab-badge.svg\" alt=\"Open In Colab\"/></a>"
      ]
    },
    {
      "cell_type": "code",
      "execution_count": 1,
      "metadata": {
        "colab": {
          "base_uri": "https://localhost:8080/"
        },
        "id": "OsSsIdQL-9Cq",
        "outputId": "a6e134be-5477-44a6-8e4f-0af7ffa5773b"
      },
      "outputs": [
        {
          "output_type": "stream",
          "name": "stdout",
          "text": [
            "4.8\n",
            "[4.8, 1.21, 2.385]\n",
            "[4.8, 1.21, 2.385]\n",
            "[4.8   1.21  2.385]\n"
          ]
        }
      ],
      "source": [
        "import numpy as np\n",
        "\n",
        "input = [1, 2 ,3, 2.5]\n",
        "weights = [0.2, 0.8, -0.5, 1.0]\n",
        "bias = 2\n",
        "\n",
        "output = (input[0] * weights[0] +\n",
        "          input[1] * weights[1] +\n",
        "          input[2] * weights[2] +\n",
        "          input[3] * weights[3] + bias)\n",
        "\n",
        "print(output)\n",
        "\n",
        "\n",
        "inputs = [1, 2, 3, 2.5]\n",
        "\n",
        "weights1 = [0.2, 0.8, -0.5, 1]\n",
        "weights2 = [0.5, -0.91, 0.26 ,-0.5]\n",
        "weights3 = [-0.26, -0.27, 0.17, 0.87]\n",
        "\n",
        "bias1 = 2\n",
        "bias2 = 3\n",
        "bias3 = 0.5\n",
        "\n",
        "outputs = [\n",
        "    # Neuron 1\n",
        "    inputs[0] * weights1[0] +\n",
        "    inputs[1] * weights1[1] +\n",
        "    inputs[2] * weights1[2] +\n",
        "    inputs[3] * weights1[3] + bias1,\n",
        "\n",
        "    # Neuron 2\n",
        "    inputs[0] * weights2[0] +\n",
        "    inputs[1] * weights2[1] +\n",
        "    inputs[2] * weights2[2] +\n",
        "    inputs[3] * weights2[3] + bias2,\n",
        "\n",
        "    # Neuron 3\n",
        "    inputs[0] * weights3[0] +\n",
        "    inputs[1] * weights3[1] +\n",
        "    inputs[2] * weights3[2] +\n",
        "    inputs[3] * weights3[3] + bias3\n",
        "\n",
        "]\n",
        "\n",
        "print(outputs)\n",
        "\n",
        "inputs = [1, 2, 3, 2.5]\n",
        "\n",
        "weights = [[0.2, 0.8, -0.5, 1],\n",
        "           [0.5, -0.91, 0.26 ,-0.5],\n",
        "           [-0.26, -0.27, 0.17, 0.87]]\n",
        "\n",
        "biases = [2, 3, 0.5]\n",
        "\n",
        "\n",
        "layer_outputs = []\n",
        "\n",
        "for neuron_weights, neuron_bias in zip(weights, biases):\n",
        "    neuron_output = 0\n",
        "    for n_input, weight in zip(inputs, neuron_weights):\n",
        "        neuron_output += n_input * weight\n",
        "    neuron_output += neuron_bias\n",
        "\n",
        "    layer_outputs.append(neuron_output)\n",
        "\n",
        "print(layer_outputs)\n",
        "\n",
        "\n",
        "layer_outputs = np.dot(weights, inputs) + biases\n",
        "\n",
        "print(layer_outputs)"
      ]
    },
    {
      "cell_type": "code",
      "source": [
        "import numpy as np\n",
        "print(np.random.randn(3, 5))\n",
        "\n",
        "layer_outputs = np.dot(weights, inputs) + biases\n",
        "print(layer_outputs)"
      ],
      "metadata": {
        "colab": {
          "base_uri": "https://localhost:8080/"
        },
        "id": "UPAJcWBsAN0O",
        "outputId": "87447a0c-2b66-4af6-d0f0-7f64ad8ce9e1"
      },
      "execution_count": 4,
      "outputs": [
        {
          "output_type": "stream",
          "name": "stdout",
          "text": [
            "[[-0.85601537 -0.62255878  0.90315973 -0.67443506 -0.68941503]\n",
            " [-1.46773908  0.87623847 -0.22587473 -0.67044155  0.15469463]\n",
            " [-0.77623827  2.31722878 -0.17821492 -0.41532267  2.77157742]]\n",
            "[4.8   1.21  2.385]\n"
          ]
        }
      ]
    },
    {
      "cell_type": "code",
      "source": [],
      "metadata": {
        "id": "SqzSNICnDOo4"
      },
      "execution_count": null,
      "outputs": []
    }
  ]
}